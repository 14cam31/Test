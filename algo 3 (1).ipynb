{
 "cells": [
  {
   "cell_type": "code",
   "execution_count": 1,
   "metadata": {},
   "outputs": [
    {
     "name": "stderr",
     "output_type": "stream",
     "text": [
      "/Library/Frameworks/Python.framework/Versions/3.6/lib/python3.6/importlib/_bootstrap.py:219: RuntimeWarning: compiletime version 3.5 of module 'tensorflow.python.framework.fast_tensor_util' does not match runtime version 3.6\n",
      "Using TensorFlow backend.\n"
     ]
    }
   ],
   "source": [
    "#imports\n",
    "\n",
    "import  tensorflow as tf\n",
    "import keras\n",
    "import numpy as np\n",
    "import pandas as pd\n",
    "from keras.models import Sequential\n",
    "from keras import optimizers\n",
    "from keras.layers import LSTM, Dense\n",
    "from keras.callbacks import EarlyStopping\n",
    "from sklearn.preprocessing import MinMaxScaler\n",
    "import matplotlib.pyplot as plt\n",
    "import time"
   ]
  },
  {
   "cell_type": "code",
   "execution_count": 2,
   "metadata": {},
   "outputs": [],
   "source": [
    "#vars\n",
    "\n",
    "period = 10\n",
    "LSTM_units = 256\n",
    "Dense_units = 1\n",
    "\n",
    "#data\n",
    "\n",
    "data = pd.read_csv('all_stocks_5yr.csv')\n",
    "companies = data.Name.unique()"
   ]
  },
  {
   "cell_type": "code",
   "execution_count": 4,
   "metadata": {},
   "outputs": [
    {
     "name": "stderr",
     "output_type": "stream",
     "text": [
      "/Library/Frameworks/Python.framework/Versions/3.6/lib/python3.6/site-packages/sklearn/utils/validation.py:475: DataConversionWarning: Data with input dtype int64 was converted to float64 by MinMaxScaler.\n",
      "  warnings.warn(msg, DataConversionWarning)\n"
     ]
    },
    {
     "name": "stdout",
     "output_type": "stream",
     "text": [
      "(611733, 2, 10) (611733,)\n",
      "40.95702576637268\n"
     ]
    }
   ],
   "source": [
    "#scale and organize data\n",
    "\n",
    "def organizeData (data, companies, period):\n",
    "    X_vals = []\n",
    "    Y_vals = []\n",
    "    for i in range (companies.shape[0]-1):\n",
    "        close = data[data['Name'] == companies[i]].close\n",
    "        volume = data[data['Name'] == companies[i]].volume\n",
    "        \n",
    "        scl = MinMaxScaler()\n",
    "        close = close.values.reshape(-1, 1)\n",
    "        close = scl.fit_transform(close)\n",
    "        \n",
    "        scl = MinMaxScaler()\n",
    "        volume = volume.values.reshape(-1, 1)\n",
    "        volume = scl.fit_transform(volume)\n",
    "        \n",
    "        X = []\n",
    "        Y = []\n",
    "        \n",
    "        X, Y = increment(close, volume, period)\n",
    "        \n",
    "        X_vals.extend(X)\n",
    "        Y_vals.extend(Y)\n",
    "    \n",
    "    print (np.array(X_vals).shape, np.array(Y_vals).shape)\n",
    "    return np.array(X_vals), np.array(Y_vals)\n",
    "\n",
    "def increment(c, v, period):\n",
    "    X,Y = [], []\n",
    "    for i in range(len(c)-period-2):\n",
    "        A = []\n",
    "        A.append(c[i:(i+period),0])\n",
    "        A.append(v[i:(i+period),0])\n",
    "        X.append(A)\n",
    "        \n",
    "        if ((c[(i+period+1)]) > c[(i+period)]):\n",
    "            Y.append(1)\n",
    "        else:\n",
    "            Y.append(0)\n",
    "    \n",
    "    return np.array(X),np.array(Y)\n",
    "\n",
    "start = time.time()\n",
    "\n",
    "X, Y = organizeData(data, companies, period)\n",
    "\n",
    "end = time.time()\n",
    "print(end - start)\n",
    "\n",
    "X_train, X_test = X[:int(X.shape[0]*0.90)], X[int(X.shape[0]*0.90):]\n",
    "Y_train, Y_test = Y[:int(Y.shape[0]*0.90)], Y[int(Y.shape[0]*0.90):]"
   ]
  },
  {
   "cell_type": "code",
   "execution_count": 5,
   "metadata": {},
   "outputs": [
    {
     "name": "stdout",
     "output_type": "stream",
     "text": [
      "Train on 440447 samples, validate on 110112 samples\n",
      "Epoch 1/5\n",
      "440447/440447 [==============================] - 96s 217us/step - loss: 0.2506 - acc: 0.5143 - val_loss: 0.2495 - val_acc: 0.5159\n",
      "Epoch 2/5\n",
      "440447/440447 [==============================] - 94s 214us/step - loss: 0.2496 - acc: 0.5188 - val_loss: 0.2493 - val_acc: 0.5219\n",
      "Epoch 3/5\n",
      "440447/440447 [==============================] - 113s 256us/step - loss: 0.2494 - acc: 0.5199 - val_loss: 0.2493 - val_acc: 0.5227\n",
      "Epoch 4/5\n",
      "440447/440447 [==============================] - 96s 217us/step - loss: 0.2494 - acc: 0.5209 - val_loss: 0.2492 - val_acc: 0.5241\n",
      "Epoch 5/5\n",
      "440447/440447 [==============================] - 97s 221us/step - loss: 0.2493 - acc: 0.5212 - val_loss: 0.2492 - val_acc: 0.5240\n",
      "496.6812381744385\n"
     ]
    }
   ],
   "source": [
    "#algorithm\n",
    "\n",
    "model = Sequential()\n",
    "model.add(LSTM(LSTM_units, input_shape = (2, period)))\n",
    "model.add(Dense(Dense_units))\n",
    "sgd = optimizers.SGD(lr = 1)\n"
    "model.compile(optimizer = sgd, loss = 'mse', metrics=['accuracy'])\n",
    "stop = EarlyStopping(monitor = 'val_loss', min_delta = 0.00001, patience = 10,\n",
    "                     verbose = 0, mode = 'auto')\n",
    "\n",
    "#if using callbacks, put after epochs \", callbacks = [stop]\"\n",
    "\n",
    "start = time.time()\n",
    "\n",
    "History = model.fit(X_train, Y_train, batch_size = np.random_integer(10, 1000), epochs = 5, validation_split = 0.20, shuffle = False, verbose = 1)\n",
    "\n",
    "end = time.time()\n",
    "print(end - start)"
   ]
  },
  {
   "cell_type": "code",
   "execution_count": 20,
   "metadata": {},
   "outputs": [
    {
     "name": "stdout",
     "output_type": "stream",
     "text": [
      "52.46019550789551\n"
     ]
    }
   ],
   "source": [
    "def convertPredictions (predictions):\n",
    "    _predictions = []\n",
    "    for i in range (np.array(predictions).shape[0]):\n",
    "        if (predictions[i] > 0.500):\n",
    "            _predictions.append(1)\n",
    "        else:\n",
    "            _predictions.append(0)\n",
    "    return _predictions\n",
    "\n",
    "def calcPercentCorrect (Y_test, predictions):\n",
    "    numCorrect = 0\n",
    "    for i in range (np.array(predictions).shape[0]):\n",
    "        if (Y_test[i] == predictions[i]):\n",
    "            numCorrect = (numCorrect + 1)\n",
    "    return (100*(numCorrect / np.array(predictions).shape[0]))\n",
    "\n",
    "predictions = model.predict(X_test)\n",
    "percentCorrect = calcPercentCorrect(Y_test, convertPredictions(predictions))\n",
    "print (percentCorrect)"
   ]
  },
  {
   "cell_type": "code",
   "execution_count": 21,
   "metadata": {},
   "outputs": [
    {
     "data": {
      "text/plain": [
       "[<matplotlib.lines.Line2D at 0x1223e2940>]"
      ]
     },
     "execution_count": 21,
     "metadata": {},
     "output_type": "execute_result"
    },
    {
     "data": {
      "image/png": "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\n",
      "text/plain": [
       "<Figure size 432x288 with 1 Axes>"
      ]
     },
     "metadata": {
      "needs_background": "light"
     },
     "output_type": "display_data"
    }
   ],
   "source": [
    "plt.plot(History.history['loss'])\n",
    "plt.plot(History.history['val_loss'])"
   ]
  },
  {
   "cell_type": "code",
   "execution_count": 22,
   "metadata": {},
   "outputs": [
    {
     "data": {
      "text/plain": [
       "[<matplotlib.lines.Line2D at 0x1223e2ef0>]"
      ]
     },
     "execution_count": 22,
     "metadata": {},
     "output_type": "execute_result"
    },
    {
     "data": {
      "image/png": "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\n",
      "text/plain": [
       "<Figure size 432x288 with 1 Axes>"
      ]
     },
     "metadata": {
      "needs_background": "light"
     },
     "output_type": "display_data"
    }
   ],
   "source": [
    "plt.plot(History.history['acc'])\n",
    "plt.plot(History.history['val_acc'])"
   ]
  },
  {
   "cell_type": "markdown",
   "metadata": {},
   "source": [
    "need to train on more epochs"
   ]
  }
 ],
 "metadata": {
  "kernelspec": {
   "display_name": "Python 3",
   "language": "python",
   "name": "python3"
  },
  "language_info": {
   "codemirror_mode": {
    "name": "ipython",
    "version": 3
   },
   "file_extension": ".py",
   "mimetype": "text/x-python",
   "name": "python",
   "nbconvert_exporter": "python",
   "pygments_lexer": "ipython3",
   "version": "3.6.6"
  }
 },
 "nbformat": 4,
 "nbformat_minor": 2
}
