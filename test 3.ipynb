{
 "cells": [
  {
   "cell_type": "code",
   "execution_count": 2,
   "metadata": {},
   "outputs": [],
   "source": [
    "import tensorflow as tf\n",
    "import keras\n",
    "import numpy as np\n",
    "import pandas as pd\n",
    "from keras.models import Sequential\n",
    "from keras.layers import LSTM, Dense\n",
    "from keras.callbacks import EarlyStopping\n",
    "from sklearn.preprocessing import MinMaxScaler\n",
    "import matplotlib.pyplot as plt\n",
    "import time"
   ]
  },
  {
   "cell_type": "code",
   "execution_count": 3,
   "metadata": {},
   "outputs": [],
   "source": [
    "sess = tf.Session(config=tf.ConfigProto(log_device_placement=True))"
    "timeFrame = 10\n",
    "LSTM_units = 32\n",
    "Dense_units = 1"
   ]
  },
  {
   "cell_type": "code",
   "execution_count": 4,
   "metadata": {},
   "outputs": [],
   "source": [
    "data = pd.read_csv('SPY.csv')\n",
    "cl = data.Close"
   ]
  },
  {
   "cell_type": "code",
   "execution_count": 5,
   "metadata": {},
   "outputs": [],
   "source": [
    "scl = MinMaxScaler()\n",
    "cl = cl.values.reshape(cl.shape[0],1)\n",
    "cl = scl.fit_transform(cl)"
   ]
  },
  {
   "cell_type": "code",
   "execution_count": 6,
   "metadata": {},
   "outputs": [],
   "source": [
    "def increment(data, period):\n",
    "    X,Y = [], []\n",
    "    for i in range(len(data)-period-1):\n",
    "        X.append(data[i:(i+period),0])\n",
    "        Y.append(data[(i+period),0])\n",
    "    return np.array(X),np.array(Y)\n",
    "\n",
    "X,Y = increment(cl, timeFrame)\n",
    "\n",
    "X_train, X_test = X[:int(X.shape[0]*0.80)], X[int(X.shape[0]*0.80):]\n",
    "Y_train, Y_test = Y[:int(Y.shape[0]*0.80)], Y[int(Y.shape[0]*0.80):]\n",
    "\n",
    "X_train = X_train.reshape(X_train.shape[0], X_train.shape[1], 1)\n",
    "X_test = X_test.reshape(X_test.shape[0], X_test.shape[1], 1)"
   ]
  },
  {
   "cell_type": "code",
   "execution_count": 7,
   "metadata": {},
   "outputs": [
    {
     "name": "stdout",
     "output_type": "stream",
     "text": [
      "Train on 999 samples, validate on 250 samples\n",
      "Epoch 1/100\n",
      " - 2s - loss: 0.0154 - acc: 0.0010 - val_loss: 0.0037 - val_acc: 0.0040\n",
      "Epoch 2/100\n",
      " - 0s - loss: 0.0079 - acc: 0.0010 - val_loss: 0.0012 - val_acc: 0.0040\n",
      "Epoch 3/100\n",
      " - 0s - loss: 0.0080 - acc: 0.0010 - val_loss: 0.0011 - val_acc: 0.0040\n",
      "Epoch 4/100\n",
      " - 0s - loss: 0.0032 - acc: 0.0010 - val_loss: 0.0039 - val_acc: 0.0040\n",
      "Epoch 5/100\n",
      " - 0s - loss: 8.1351e-04 - acc: 0.0010 - val_loss: 0.0029 - val_acc: 0.0040\n",
      "Epoch 6/100\n",
      " - 0s - loss: 6.2158e-04 - acc: 0.0010 - val_loss: 0.0013 - val_acc: 0.0040\n",
      "Epoch 7/100\n",
      " - 0s - loss: 6.5373e-04 - acc: 0.0010 - val_loss: 0.0011 - val_acc: 0.0040\n",
      "Epoch 8/100\n",
      " - 0s - loss: 6.1783e-04 - acc: 0.0010 - val_loss: 0.0011 - val_acc: 0.0040\n",
      "4.901749134063721\n"
     ]
    }
   ],
   "source": [
    "model = Sequential()\n",
    "model.add(LSTM(LSTM_units, input_shape = (timeFrame, 1)))\n",
    "model.add(Dense(Dense_units))\n",
    "model.compile(optimizer = 'adam', loss = 'mse', metrics=['accuracy'])\n",
    "\n",
    "start = time.time()\n",
    "\n",
    "stop = EarlyStopping(monitor = 'val_loss', min_delta = 0.0001, patience = 5, verbose = 0, mode = 'auto')\n",
    "\n",
    "History = model.fit(X_train, Y_train, epochs = 100, callbacks = [stop], validation_data = (X_test, Y_test), shuffle = False, verbose = 2)\n",
    "\n",
    "end = time.time()\n",
    "print(end - start)"
   ]
  },
  {
   "cell_type": "code",
   "execution_count": 8,
   "metadata": {},
   "outputs": [
    {
     "data": {
      "text/plain": [
       "[<matplotlib.lines.Line2D at 0x268ae291940>]"
      ]
     },
     "execution_count": 8,
     "metadata": {},
     "output_type": "execute_result"
    },
    {
     "data": {
      "image/png": "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\n",
      "text/plain": [
       "<Figure size 432x288 with 1 Axes>"
      ]
     },
     "metadata": {
      "needs_background": "light"
     },
     "output_type": "display_data"
    }
   ],
   "source": [
    "plt.plot(History.history['loss'])\n",
    "plt.plot(History.history['val_loss'])"
   ]
  }
 ],
 "metadata": {
  "kernelspec": {
   "display_name": "Python 3",
   "language": "python",
   "name": "python3"
  },
  "language_info": {
   "codemirror_mode": {
    "name": "ipython",
    "version": 3
   },
   "file_extension": ".py",
   "mimetype": "text/x-python",
   "name": "python",
   "nbconvert_exporter": "python",
   "pygments_lexer": "ipython3",
   "version": "3.6.4"
  }
 },
 "nbformat": 4,
 "nbformat_minor": 2
}
